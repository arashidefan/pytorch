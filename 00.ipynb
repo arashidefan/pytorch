{
  "nbformat": 4,
  "nbformat_minor": 0,
  "metadata": {
    "colab": {
      "provenance": [],
      "toc_visible": true,
      "gpuType": "T4",
      "authorship_tag": "ABX9TyPZ0sTXnhsJJB7gqCT7J+mo",
      "include_colab_link": true
    },
    "kernelspec": {
      "name": "python3",
      "display_name": "Python 3"
    },
    "language_info": {
      "name": "python"
    },
    "accelerator": "GPU"
  },
  "cells": [
    {
      "cell_type": "markdown",
      "metadata": {
        "id": "view-in-github",
        "colab_type": "text"
      },
      "source": [
        "<a href=\"https://colab.research.google.com/github/arashidefan/pytorch/blob/main/00.ipynb\" target=\"_parent\"><img src=\"https://colab.research.google.com/assets/colab-badge.svg\" alt=\"Open In Colab\"/></a>"
      ]
    },
    {
      "cell_type": "code",
      "execution_count": null,
      "metadata": {
        "id": "kLCfbrfb7Mgt",
        "colab": {
          "base_uri": "https://localhost:8080/"
        },
        "outputId": "74beb1e0-867c-4958-ab24-91a1855927fd"
      },
      "outputs": [
        {
          "output_type": "stream",
          "name": "stdout",
          "text": [
            "2.5.1+cu121\n"
          ]
        }
      ],
      "source": [
        "import torch\n",
        "print(torch.__version__)"
      ]
    },
    {
      "cell_type": "markdown",
      "source": [
        "# 声明一个tensor\n",
        "* 用``` torch.tensor（）\n",
        "```创建tensor"
      ],
      "metadata": {
        "id": "X9WdXdEe8uLS"
      }
    },
    {
      "cell_type": "code",
      "source": [
        "scalar = torch.tensor(7)\n",
        "scalar"
      ],
      "metadata": {
        "id": "9c9Fi_-n7Pn5",
        "colab": {
          "base_uri": "https://localhost:8080/"
        },
        "outputId": "73457da2-55ae-4f50-9c2a-c8e1486ebe3f"
      },
      "execution_count": null,
      "outputs": [
        {
          "output_type": "execute_result",
          "data": {
            "text/plain": [
              "tensor(7)"
            ]
          },
          "metadata": {},
          "execution_count": 4
        }
      ]
    },
    {
      "cell_type": "markdown",
      "source": [
        "## tensor.ndim 查看tensor维度\n",
        "* 查看tensor的维度 用```tensor.ndim```  \n",
        "* 0维标识一个数标量，1维表示一个轴，2维表示两个轴，以此类推，n维表示n维数组，有n个轴"
      ],
      "metadata": {
        "id": "fOpCq_Rk9O-m"
      }
    },
    {
      "cell_type": "code",
      "source": [
        "print(scalar.ndim)"
      ],
      "metadata": {
        "colab": {
          "base_uri": "https://localhost:8080/"
        },
        "id": "Pa-M7Vi_8tXE",
        "outputId": "4ba01a64-f69d-4115-ef5d-1105b8f46a32"
      },
      "execution_count": null,
      "outputs": [
        {
          "output_type": "stream",
          "name": "stdout",
          "text": [
            "0\n"
          ]
        }
      ]
    },
    {
      "cell_type": "markdown",
      "source": [
        "## tonsor.item() 查看tensor的value"
      ],
      "metadata": {
        "id": "nDGLfN4o3Zis"
      }
    },
    {
      "cell_type": "code",
      "source": [
        "scalar.item()\n"
      ],
      "metadata": {
        "colab": {
          "base_uri": "https://localhost:8080/"
        },
        "id": "KMIwFM6C-Ian",
        "outputId": "b86d9d8e-bba6-4eed-8dea-d19c72cc6c39"
      },
      "execution_count": null,
      "outputs": [
        {
          "output_type": "execute_result",
          "data": {
            "text/plain": [
              "7"
            ]
          },
          "metadata": {},
          "execution_count": 8
        }
      ]
    },
    {
      "cell_type": "markdown",
      "source": [
        "## vector 向量\n",
        "* ndim为1 说明有1个轴\n",
        "* tensor.shape 查看tensor的形状，有几个数表示几维；数字是几，表示该维度上有几个元素或者说该维度上的元素长度"
      ],
      "metadata": {
        "id": "6tRQfWos4BDw"
      }
    },
    {
      "cell_type": "code",
      "source": [
        "vector = torch.tensor([7,7])\n",
        "print(vector)\n",
        "print(vector.ndim)\n",
        "print(vector.shape)"
      ],
      "metadata": {
        "colab": {
          "base_uri": "https://localhost:8080/"
        },
        "id": "qC12zpeo-eFs",
        "outputId": "ca4a42c5-48c0-4e24-abd4-1893db576e2b"
      },
      "execution_count": null,
      "outputs": [
        {
          "output_type": "stream",
          "name": "stdout",
          "text": [
            "tensor([7, 7])\n",
            "1\n",
            "torch.Size([2])\n"
          ]
        }
      ]
    },
    {
      "cell_type": "markdown",
      "source": [
        "## Matrix 矩阵\n"
      ],
      "metadata": {
        "id": "FXA8OHx34uRL"
      }
    },
    {
      "cell_type": "code",
      "source": [
        "MATRIX = torch.tensor([[7,8],[9,10]])\n",
        "print(MATRIX)\n",
        "print(MATRIX.ndim)\n",
        "print(MATRIX.shape)"
      ],
      "metadata": {
        "colab": {
          "base_uri": "https://localhost:8080/"
        },
        "id": "d8Y9T11X_D8A",
        "outputId": "77ea6dd6-11e4-45fc-9315-7ce8d92f284c"
      },
      "execution_count": null,
      "outputs": [
        {
          "output_type": "stream",
          "name": "stdout",
          "text": [
            "tensor([[ 7,  8],\n",
            "        [ 9, 10]])\n",
            "2\n",
            "torch.Size([2, 2])\n"
          ]
        }
      ]
    },
    {
      "cell_type": "markdown",
      "source": [
        "## 多维tensor"
      ],
      "metadata": {
        "id": "UfayaBYX5Ons"
      }
    },
    {
      "cell_type": "code",
      "source": [
        "TENSOR = torch.tensor([[[1,2,3],[4,5,6],[7,8,9],[10,11,12]]])\n",
        "print(TENSOR.ndim)\n",
        "print(TENSOR.shape)\n",
        "print(TENSOR[0][2][2])"
      ],
      "metadata": {
        "id": "u0iVi8VE_mx2",
        "colab": {
          "base_uri": "https://localhost:8080/"
        },
        "outputId": "29340ac0-1fe2-4254-f7a7-bcdad1dc1c2f"
      },
      "execution_count": null,
      "outputs": [
        {
          "output_type": "stream",
          "name": "stdout",
          "text": [
            "3\n",
            "torch.Size([1, 4, 3])\n",
            "tensor(9)\n"
          ]
        }
      ]
    },
    {
      "cell_type": "markdown",
      "source": [
        "# Random Tensor\n",
        "Random tensors 是很重要的 ，在很多神经网络学习的时候，开始时神经网络的tensors全部是随机数字random numbers 然后随着学习，逐步调整这些随机数 使其能更好地represent data\n",
        "\n",
        "* ```start with random numbers -> look up data -> update random numbers -> look up data -> update random numbers```\n",
        "* torch.rand(dim0,dim1,dim2) 生成的tensor形状，0维上有dim0个元素，1维上有dim1个\n",
        "元素，2维上有dim2个元素"
      ],
      "metadata": {
        "id": "bh-zCifHt-93"
      }
    },
    {
      "cell_type": "code",
      "source": [
        "random_tensor = torch.rand(1,10,10)\n",
        "print(random_tensor)"
      ],
      "metadata": {
        "colab": {
          "base_uri": "https://localhost:8080/"
        },
        "id": "I43BvRJAuDwm",
        "outputId": "7979e4cf-da78-427b-ada3-479396983af6"
      },
      "execution_count": null,
      "outputs": [
        {
          "output_type": "stream",
          "name": "stdout",
          "text": [
            "tensor([[[0.8123, 0.8353, 0.8301, 0.9017, 0.9608, 0.3950, 0.1736, 0.7415,\n",
            "          0.2455, 0.9977],\n",
            "         [0.1289, 0.8253, 0.7391, 0.5449, 0.9830, 0.4701, 0.1498, 0.6533,\n",
            "          0.7447, 0.9171],\n",
            "         [0.9889, 0.3315, 0.6492, 0.3508, 0.3195, 0.6597, 0.8085, 0.7634,\n",
            "          0.2167, 0.1440],\n",
            "         [0.9506, 0.1480, 0.5681, 0.9857, 0.8843, 0.8462, 0.9122, 0.8812,\n",
            "          0.1530, 0.0094],\n",
            "         [0.4408, 0.2195, 0.0340, 0.0406, 0.0556, 0.4034, 0.3769, 0.9419,\n",
            "          0.8568, 0.4727],\n",
            "         [0.2393, 0.0390, 0.2712, 0.8189, 0.5087, 0.4286, 0.1060, 0.5699,\n",
            "          0.7056, 0.0970],\n",
            "         [0.5695, 0.6456, 0.0554, 0.4894, 0.7391, 0.2384, 0.6833, 0.4658,\n",
            "          0.9125, 0.8904],\n",
            "         [0.9720, 0.1539, 0.3245, 0.1121, 0.9082, 0.5797, 0.4020, 0.2217,\n",
            "          0.1621, 0.9185],\n",
            "         [0.0123, 0.0347, 0.8049, 0.5916, 0.8374, 0.1660, 0.7915, 0.6895,\n",
            "          0.1302, 0.1728],\n",
            "         [0.9709, 0.3952, 0.1211, 0.3665, 0.1965, 0.4852, 0.6761, 0.0586,\n",
            "          0.7661, 0.3948]]])\n"
          ]
        }
      ]
    },
    {
      "cell_type": "code",
      "source": [
        "print(random_tensor.ndim)\n",
        "print(random_tensor.shape)"
      ],
      "metadata": {
        "colab": {
          "base_uri": "https://localhost:8080/"
        },
        "id": "yrq4ByEyvbI5",
        "outputId": "120913e1-5214-4718-939b-573915eac132"
      },
      "execution_count": null,
      "outputs": [
        {
          "output_type": "stream",
          "name": "stdout",
          "text": [
            "3\n",
            "torch.Size([1, 10, 10])\n"
          ]
        }
      ]
    },
    {
      "cell_type": "markdown",
      "source": [
        "* torch.rand(size=(x)) 生成形状维x的随机tensor"
      ],
      "metadata": {
        "id": "qy1Er-uc6Lkm"
      }
    },
    {
      "cell_type": "code",
      "source": [
        "random_image_size_tensor = torch.rand(size=(3,224,224))\n",
        "random_image_size_tensor.shape,random_image_size_tensor.ndim"
      ],
      "metadata": {
        "id": "WZtbtGElywoE",
        "colab": {
          "base_uri": "https://localhost:8080/"
        },
        "outputId": "6293fab6-118b-46a2-9763-641b83319901"
      },
      "execution_count": null,
      "outputs": [
        {
          "output_type": "execute_result",
          "data": {
            "text/plain": [
              "(torch.Size([3, 224, 224]), 3)"
            ]
          },
          "metadata": {},
          "execution_count": 17
        }
      ]
    },
    {
      "cell_type": "markdown",
      "source": [
        "# Zeros and Ones 生成value全为0或者全为1的tensor\n",
        "* torch.zeros(size=(a,b)) 生成形状为[a,b]的全0tensor"
      ],
      "metadata": {
        "id": "TbBFos5Fz-Hw"
      }
    },
    {
      "cell_type": "code",
      "source": [
        "zero = torch.zeros(size=(4,3))\n",
        "zero"
      ],
      "metadata": {
        "colab": {
          "base_uri": "https://localhost:8080/"
        },
        "id": "qpZvW28-z95i",
        "outputId": "7d65c83c-c310-4ec5-c584-8608488add6c"
      },
      "execution_count": null,
      "outputs": [
        {
          "output_type": "execute_result",
          "data": {
            "text/plain": [
              "tensor([[0., 0., 0.],\n",
              "        [0., 0., 0.],\n",
              "        [0., 0., 0.],\n",
              "        [0., 0., 0.]])"
            ]
          },
          "metadata": {},
          "execution_count": 19
        }
      ]
    },
    {
      "cell_type": "markdown",
      "source": [
        "* tensor.dtype 查看张量的数据类型 默认是float32,在pytorch中写为torch.float32"
      ],
      "metadata": {
        "id": "kiP990v767xX"
      }
    },
    {
      "cell_type": "code",
      "source": [
        "zero.dtype"
      ],
      "metadata": {
        "colab": {
          "base_uri": "https://localhost:8080/"
        },
        "id": "X1C2wx-60fe5",
        "outputId": "cad51911-f2f9-43b3-c50a-6130b75b816c"
      },
      "execution_count": null,
      "outputs": [
        {
          "output_type": "execute_result",
          "data": {
            "text/plain": [
              "torch.float32"
            ]
          },
          "metadata": {},
          "execution_count": 21
        }
      ]
    },
    {
      "cell_type": "markdown",
      "source": [
        "* torch.ones(size=(a,b)) 生成形状为[a,b]的全1张量\n"
      ],
      "metadata": {
        "id": "7kw_b1Gw7RJb"
      }
    },
    {
      "cell_type": "code",
      "source": [
        "one = torch.ones(size=(4,3))\n",
        "one"
      ],
      "metadata": {
        "id": "OQ8J_vELywi3",
        "colab": {
          "base_uri": "https://localhost:8080/"
        },
        "outputId": "e065b23b-bdec-4b54-88bc-8e816a663ca9"
      },
      "execution_count": null,
      "outputs": [
        {
          "output_type": "execute_result",
          "data": {
            "text/plain": [
              "tensor([[1., 1., 1.],\n",
              "        [1., 1., 1.],\n",
              "        [1., 1., 1.],\n",
              "        [1., 1., 1.]])"
            ]
          },
          "metadata": {},
          "execution_count": 20
        }
      ]
    },
    {
      "cell_type": "code",
      "source": [
        "one.dtype"
      ],
      "metadata": {
        "id": "XUuQXhBhywNG",
        "colab": {
          "base_uri": "https://localhost:8080/"
        },
        "outputId": "9571ad8c-bcdf-4e68-b04c-e17f56cc7b59"
      },
      "execution_count": null,
      "outputs": [
        {
          "output_type": "execute_result",
          "data": {
            "text/plain": [
              "torch.float32"
            ]
          },
          "metadata": {},
          "execution_count": 22
        }
      ]
    },
    {
      "cell_type": "markdown",
      "source": [
        "# 创建range tensors\n",
        "#######可以看成数组 ########\n",
        "* torch.arange(start,end,step) 生成[start,end)步长为step的一个tensor数组"
      ],
      "metadata": {
        "id": "SjA0tmZuuDS_"
      }
    },
    {
      "cell_type": "code",
      "source": [
        "one_to_ten = torch.arange(start=0,end=10,step=1)\n",
        "one_to_ten"
      ],
      "metadata": {
        "colab": {
          "base_uri": "https://localhost:8080/"
        },
        "id": "yJykW10q1Ocl",
        "outputId": "e7036a50-daa7-4fc4-dcfa-a0f091ee106a"
      },
      "execution_count": null,
      "outputs": [
        {
          "output_type": "execute_result",
          "data": {
            "text/plain": [
              "tensor([0, 1, 2, 3, 4, 5, 6, 7, 8, 9])"
            ]
          },
          "metadata": {},
          "execution_count": 15
        }
      ]
    },
    {
      "cell_type": "markdown",
      "source": [
        "### 如果想创建全为0或者全为1的tensor数组\n",
        "* 用tensors like\n",
        "* 具体实现为 torch.zeros_like(input为已经声明好形状的range)\n",
        "* torch.ones_like(input)"
      ],
      "metadata": {
        "id": "xVkQS60u2Fk1"
      }
    },
    {
      "cell_type": "code",
      "source": [
        "ten_zeros = torch.ones_like(input=one_to_ten)\n",
        "ten_zeros"
      ],
      "metadata": {
        "colab": {
          "base_uri": "https://localhost:8080/"
        },
        "id": "JemJhJpr1-X4",
        "outputId": "08bc7b96-1c9b-4f18-9875-bdba047c26e5"
      },
      "execution_count": null,
      "outputs": [
        {
          "output_type": "execute_result",
          "data": {
            "text/plain": [
              "tensor([1, 1, 1, 1, 1, 1, 1, 1, 1, 1])"
            ]
          },
          "metadata": {},
          "execution_count": 16
        }
      ]
    },
    {
      "cell_type": "markdown",
      "source": [
        "# Tensor datatypes 张量的数据类型\n",
        "## 创建tensor时的配置选项：\n",
        " 1. dtype: 返回tensor的数据类型,默认为torch.float32\n",
        " 2. device: 返回tensor的数据位置，有CPU,GPU两种选择，默认为CPU\n",
        " 3. requires_grid: 返回tensor是否需要记录操作来进行梯度运算，一般是False\n",
        " 4. layout: 定义tensor在内存中如何存储"
      ],
      "metadata": {
        "id": "2A0Kr_D87iAd"
      }
    },
    {
      "cell_type": "code",
      "source": [
        "float_32_tensor = torch.tensor([3.0,6.0,9.0],\n",
        "                dtype=None,\n",
        "                device=None,\n",
        "                requires_grad=False)\n",
        "float_32_tensor.dtype,float_32_tensor.device,float_32_tensor.shape"
      ],
      "metadata": {
        "colab": {
          "base_uri": "https://localhost:8080/"
        },
        "id": "swbVyOp_7gas",
        "outputId": "455abf21-f87b-4dd4-cb6c-cf48d3b1991f"
      },
      "execution_count": null,
      "outputs": [
        {
          "output_type": "execute_result",
          "data": {
            "text/plain": [
              "(torch.float32, device(type='cpu'), torch.Size([3]))"
            ]
          },
          "metadata": {},
          "execution_count": 20
        }
      ]
    },
    {
      "cell_type": "markdown",
      "source": [
        "## tensor.type(torch.float16) tensor的数据类型转换\n",
        "* 把一个已知的Tensor type为float_32的转换成type为float16的"
      ],
      "metadata": {
        "id": "6puiK4N2QvTc"
      }
    },
    {
      "cell_type": "code",
      "source": [
        "float_16_tensor = float_32_tensor.type(torch.float16)\n",
        "float_16_tensor\n"
      ],
      "metadata": {
        "colab": {
          "base_uri": "https://localhost:8080/"
        },
        "id": "bIQJ-h8ZQRb8",
        "outputId": "bf1bbece-7882-4ba7-a3ad-f08d911615cd"
      },
      "execution_count": null,
      "outputs": [
        {
          "output_type": "execute_result",
          "data": {
            "text/plain": [
              "tensor([3., 6., 9.], dtype=torch.float16)"
            ]
          },
          "metadata": {},
          "execution_count": 21
        }
      ]
    },
    {
      "cell_type": "markdown",
      "source": [
        "## 在声明tensor时就可以指定其数据类型\n",
        "* torch.tensor(x,dtype = y) ，x是声明的tensor ,y是它的数据类型"
      ],
      "metadata": {
        "id": "7ifF0q3f9qk6"
      }
    },
    {
      "cell_type": "code",
      "source": [
        "int_32_tensor = torch.tensor([3,6,9],dtype=torch.int32)\n",
        "int_32_tensor"
      ],
      "metadata": {
        "colab": {
          "base_uri": "https://localhost:8080/"
        },
        "id": "vH37UPrWRKkA",
        "outputId": "c4ffdceb-dbb8-4cdb-9f74-6f0eb39e95b4"
      },
      "execution_count": null,
      "outputs": [
        {
          "output_type": "execute_result",
          "data": {
            "text/plain": [
              "tensor([3, 6, 9], dtype=torch.int32)"
            ]
          },
          "metadata": {},
          "execution_count": 22
        }
      ]
    },
    {
      "cell_type": "code",
      "source": [
        "k = float_32_tensor * int_32_tensor\n",
        "print(k.dtype)"
      ],
      "metadata": {
        "colab": {
          "base_uri": "https://localhost:8080/"
        },
        "id": "it-G2ABiRvMG",
        "outputId": "b6560b41-4d95-42af-ac39-33b295033a9f"
      },
      "execution_count": null,
      "outputs": [
        {
          "output_type": "stream",
          "name": "stdout",
          "text": [
            "torch.float32\n"
          ]
        }
      ]
    },
    {
      "cell_type": "markdown",
      "source": [
        "# tensor.shape 与tensor.size() 是等价的"
      ],
      "metadata": {
        "id": "6qhPKzRMTywv"
      }
    },
    {
      "cell_type": "code",
      "source": [
        "some_tensor = torch.rand(3,4)\n",
        "some_tensor"
      ],
      "metadata": {
        "colab": {
          "base_uri": "https://localhost:8080/"
        },
        "id": "InUWX6A9SLPM",
        "outputId": "c0e142c5-2bc5-4860-f708-b637e8be21fe"
      },
      "execution_count": null,
      "outputs": [
        {
          "output_type": "execute_result",
          "data": {
            "text/plain": [
              "tensor([[0.5724, 0.8792, 0.4451, 0.4400],\n",
              "        [0.3035, 0.6469, 0.0165, 0.0308],\n",
              "        [0.3339, 0.5249, 0.2537, 0.1208]])"
            ]
          },
          "metadata": {},
          "execution_count": 24
        }
      ]
    },
    {
      "cell_type": "code",
      "source": [
        "print(some_tensor.shape)\n",
        "print(some_tensor.dtype)\n",
        "print(some_tensor.size())"
      ],
      "metadata": {
        "id": "EulzT9TASj9A",
        "colab": {
          "base_uri": "https://localhost:8080/"
        },
        "outputId": "5b5cf72a-cbd6-4bf7-f8b2-cca702e1a537"
      },
      "execution_count": null,
      "outputs": [
        {
          "output_type": "stream",
          "name": "stdout",
          "text": [
            "torch.Size([3, 4])\n",
            "torch.float32\n",
            "torch.Size([3, 4])\n"
          ]
        }
      ]
    },
    {
      "cell_type": "markdown",
      "source": [
        "# Tensor opertions include：\n",
        "######tensor的操作包括加减乘除矩阵运算\n",
        "* Addition   +\n",
        "* Subtraction  -\n",
        "* Multiplication  *\n",
        "* Division  /\n",
        "* Matrix multipication： tensor1.matmul(tensor2)或者torch.matmul(tensor1,tensor2)或者 torch.mm(tensor1,tensor2)\n"
      ],
      "metadata": {
        "id": "zsdrZGk1UGfH"
      }
    },
    {
      "cell_type": "code",
      "source": [
        "tensor = torch.tensor([1,2,3])\n",
        "tensor + 10"
      ],
      "metadata": {
        "id": "MiaotqPAUxBa",
        "colab": {
          "base_uri": "https://localhost:8080/"
        },
        "outputId": "6b0cc3b1-4885-41b4-ed47-ccae27e2dd92"
      },
      "execution_count": null,
      "outputs": [
        {
          "output_type": "execute_result",
          "data": {
            "text/plain": [
              "tensor([11, 12, 13])"
            ]
          },
          "metadata": {},
          "execution_count": 12
        }
      ]
    },
    {
      "cell_type": "code",
      "source": [
        "tensor - 10"
      ],
      "metadata": {
        "colab": {
          "base_uri": "https://localhost:8080/"
        },
        "id": "8m6CRCs_V958",
        "outputId": "2cc6e66f-fb22-4aaf-fc52-c6a94f8137da"
      },
      "execution_count": null,
      "outputs": [
        {
          "output_type": "execute_result",
          "data": {
            "text/plain": [
              "tensor([-9, -8, -7])"
            ]
          },
          "metadata": {},
          "execution_count": 13
        }
      ]
    },
    {
      "cell_type": "code",
      "source": [
        "tensor * 10"
      ],
      "metadata": {
        "colab": {
          "base_uri": "https://localhost:8080/"
        },
        "id": "B4KiZME4WA5e",
        "outputId": "f92652ff-1097-435d-bf24-4b4b77c332da"
      },
      "execution_count": null,
      "outputs": [
        {
          "output_type": "execute_result",
          "data": {
            "text/plain": [
              "tensor([10, 20, 30])"
            ]
          },
          "metadata": {},
          "execution_count": 14
        }
      ]
    },
    {
      "cell_type": "code",
      "source": [
        "tensor.matmul(tensor.reshape(3,1))"
      ],
      "metadata": {
        "colab": {
          "base_uri": "https://localhost:8080/"
        },
        "id": "tgQR_uMxWDus",
        "outputId": "c9a7c7b6-54da-40d5-b0d9-684306fe25d7"
      },
      "execution_count": null,
      "outputs": [
        {
          "output_type": "execute_result",
          "data": {
            "text/plain": [
              "tensor([14])"
            ]
          },
          "metadata": {},
          "execution_count": 15
        }
      ]
    },
    {
      "cell_type": "code",
      "source": [
        "# Element wise multiplication\n",
        "print(tensor, \"*\", tensor)\n",
        "print(f\"Equals: {tensor * tensor}\")"
      ],
      "metadata": {
        "colab": {
          "base_uri": "https://localhost:8080/"
        },
        "id": "K0WrRYfDWyO4",
        "outputId": "e7f93bc7-d4b3-42d4-e77e-24992ecd3878"
      },
      "execution_count": null,
      "outputs": [
        {
          "output_type": "stream",
          "name": "stdout",
          "text": [
            "tensor([1, 2, 3]) * tensor([1, 2, 3])\n",
            "Equals: tensor([1, 4, 9])\n"
          ]
        }
      ]
    },
    {
      "cell_type": "code",
      "source": [
        "# Matrix multiplication by hand\n",
        "print(tensor, \"matmul\", tensor)\n",
        "print(f\"Equals: {torch.matmul(tensor,tensor.reshape(3,1))}\") # 得到的是一个矩阵"
      ],
      "metadata": {
        "colab": {
          "base_uri": "https://localhost:8080/"
        },
        "id": "kpzegav6Xb-p",
        "outputId": "7b99cae7-05c4-4f7a-949d-9429ff301618"
      },
      "execution_count": null,
      "outputs": [
        {
          "output_type": "stream",
          "name": "stdout",
          "text": [
            "tensor([1, 2, 3]) matmul tensor([1, 2, 3])\n",
            "Equals: tensor([14])\n"
          ]
        }
      ]
    },
    {
      "cell_type": "code",
      "source": [
        "value = 0\n",
        "for i in range(len(tensor)):\n",
        "  value += tensor[i]*tensor[i]\n",
        "print(value)"
      ],
      "metadata": {
        "colab": {
          "base_uri": "https://localhost:8080/"
        },
        "id": "UKXdVlctX1pz",
        "outputId": "a913b013-ed67-416c-df20-885eebe2f57e"
      },
      "execution_count": null,
      "outputs": [
        {
          "output_type": "stream",
          "name": "stdout",
          "text": [
            "tensor(14)\n"
          ]
        }
      ]
    },
    {
      "cell_type": "code",
      "source": [
        "torch.matmul(tensor,tensor)\n"
      ],
      "metadata": {
        "colab": {
          "base_uri": "https://localhost:8080/"
        },
        "id": "f-PONdl7X1fV",
        "outputId": "0dfb0806-e978-47c3-8b7f-d2ce131463da"
      },
      "execution_count": null,
      "outputs": [
        {
          "output_type": "execute_result",
          "data": {
            "text/plain": [
              "tensor(14)"
            ]
          },
          "metadata": {},
          "execution_count": 19
        }
      ]
    },
    {
      "cell_type": "markdown",
      "source": [
        "# 深度学习中一个最常见的错误： shape errors\n",
        "#### 一维向量之间的matmul 叫做点积运算，高维张量之间的matmul 叫做矩阵的乘法\n",
        "#### 有两个规则在矩阵运算中需要满足：\n",
        "1. @ 相当于 matmul 点积  tensor@tensor\n",
        "* ```(3,2)@(3,2)``` it doesn't work\n",
        "* ```(3,2)@(2,3)``` it will work"
      ],
      "metadata": {
        "id": "qiFOHivaZdcz"
      }
    },
    {
      "cell_type": "code",
      "source": [
        "torch.rand(3,2)"
      ],
      "metadata": {
        "colab": {
          "base_uri": "https://localhost:8080/"
        },
        "id": "8Xn1fkODCyUU",
        "outputId": "a030d7a3-44a6-4db7-d439-5c63eb3bc6e5"
      },
      "execution_count": null,
      "outputs": [
        {
          "output_type": "execute_result",
          "data": {
            "text/plain": [
              "tensor([[0.1837, 0.3865],\n",
              "        [0.2649, 0.0967],\n",
              "        [0.3719, 0.9759]])"
            ]
          },
          "metadata": {},
          "execution_count": 10
        }
      ]
    },
    {
      "cell_type": "code",
      "source": [
        "torch.matmul(torch.rand(2,3),torch.rand(3,2))"
      ],
      "metadata": {
        "colab": {
          "base_uri": "https://localhost:8080/"
        },
        "id": "4GOziT1gZnIm",
        "outputId": "da277329-6fc3-4937-f720-a2bcebdfa84e"
      },
      "execution_count": null,
      "outputs": [
        {
          "output_type": "execute_result",
          "data": {
            "text/plain": [
              "tensor([[0.5605, 0.5948],\n",
              "        [0.8151, 0.7847]])"
            ]
          },
          "metadata": {},
          "execution_count": 9
        }
      ]
    },
    {
      "cell_type": "markdown",
      "source": [
        "## 矩阵的转置\n",
        "* tensor.T"
      ],
      "metadata": {
        "id": "uQmWo6qL_0bX"
      }
    },
    {
      "cell_type": "code",
      "source": [
        "# shape of matrix multiplication\n",
        "tensor_A = torch.tensor([[1,2],[3,4],[5,6]])\n",
        "tensor_B = torch.tensor([[7,10],[8,11],[9,12]])\n",
        "torch.mm(tensor_A,tensor_B.T)"
      ],
      "metadata": {
        "id": "Rf5SkROXbou7",
        "colab": {
          "base_uri": "https://localhost:8080/"
        },
        "outputId": "e953fce1-6ff2-4942-a1b6-426e3a456ecd"
      },
      "execution_count": null,
      "outputs": [
        {
          "output_type": "execute_result",
          "data": {
            "text/plain": [
              "tensor([[ 27,  30,  33],\n",
              "        [ 61,  68,  75],\n",
              "        [ 95, 106, 117]])"
            ]
          },
          "metadata": {},
          "execution_count": 8
        }
      ]
    },
    {
      "cell_type": "markdown",
      "source": [
        "## tensor的形状 ```tensor.Size([8])```\n",
        "###表示这个tensor是一维的，该维度下有八个数字，长度为8"
      ],
      "metadata": {
        "id": "WaTyxFXgBngt"
      }
    },
    {
      "cell_type": "code",
      "source": [
        "tensor = torch.arange(1.,9.,3)\n",
        "tensor,tensor.shape"
      ],
      "metadata": {
        "colab": {
          "base_uri": "https://localhost:8080/"
        },
        "id": "14B7TZxxB5IM",
        "outputId": "9abf5471-74ec-462d-815f-cfd3a13a7b6c"
      },
      "execution_count": null,
      "outputs": [
        {
          "output_type": "execute_result",
          "data": {
            "text/plain": [
              "(tensor([1., 4., 7.]), torch.Size([3]))"
            ]
          },
          "metadata": {},
          "execution_count": 5
        }
      ]
    },
    {
      "cell_type": "markdown",
      "source": [
        "## 更改Tensor的shape或者更改tensor的维度 且 不更改tensor的value值,有6种方法实现\n",
        "* torch.reshape(input,shape)\n",
        "* Tensor.view(shape)\n",
        "* torch.stack(tensors,dim=0)\n",
        "* torch.squeeze(input)\n",
        "* torch.unsqueeze(input,shape)\n",
        "* torch.permute(input,shape)"
      ],
      "metadata": {
        "id": "GG0mJ3HGt5g4"
      }
    },
    {
      "cell_type": "code",
      "source": [
        "import torch\n",
        "x = torch.arange(1.,10)\n",
        "x,x.shape"
      ],
      "metadata": {
        "colab": {
          "base_uri": "https://localhost:8080/"
        },
        "id": "p4CkMr4ctM31",
        "outputId": "f9c1e59d-1b95-4c3a-be38-e58122336626"
      },
      "execution_count": null,
      "outputs": [
        {
          "output_type": "execute_result",
          "data": {
            "text/plain": [
              "(tensor([1., 2., 3., 4., 5., 6., 7., 8., 9.]), torch.Size([9]))"
            ]
          },
          "metadata": {},
          "execution_count": 1
        }
      ]
    },
    {
      "cell_type": "markdown",
      "source": [
        "\n",
        "### 对于x.reshape(a,b)的理解：\n",
        "#### 1. 前面说的是torch.reshape(x,(a,b))的写法\n",
        "#### 2. 而x.reshape(a,b)是另一种写法，将tensor X 的形状改为 两个轴，第一个轴上有a个元素，第二个轴上有b个元素，第一个轴为行 第二个轴为列 所以形状是[a,b]  ，a行b列\n",
        "#### 3.任意调整张量形状，只要元素总数不变。"
      ],
      "metadata": {
        "id": "YOFE6KyWv5Tk"
      }
    },
    {
      "cell_type": "code",
      "source": [
        "x_reshaped = x.reshape(3,3)\n",
        "x_reshaped,x_reshaped.shape\n",
        "##这里的x转置之后，才是不连续存储，这时更改新的变量时，原变量的值并不会更改"
      ],
      "metadata": {
        "colab": {
          "base_uri": "https://localhost:8080/"
        },
        "id": "8iauY5b8tMzx",
        "outputId": "b74f43c7-7f6f-40b2-b022-d5ef3f1f71d4"
      },
      "execution_count": null,
      "outputs": [
        {
          "output_type": "execute_result",
          "data": {
            "text/plain": [
              "(tensor([[1., 2., 3.],\n",
              "         [4., 5., 6.],\n",
              "         [7., 8., 9.]]),\n",
              " torch.Size([3, 3]))"
            ]
          },
          "metadata": {},
          "execution_count": 4
        }
      ]
    },
    {
      "cell_type": "markdown",
      "source": [
        "### x.view(新的形状)\n",
        "1. 同reshape类似，但要求是存储必须连续\n",
        "2. 但生成的新张量与原张量共享内存，改变其中一个，另一个也跟着变化"
      ],
      "metadata": {
        "id": "Kp55lK9sxxY4"
      }
    },
    {
      "cell_type": "code",
      "source": [
        "z = x.view(3,3)\n",
        "z,z.shape"
      ],
      "metadata": {
        "colab": {
          "base_uri": "https://localhost:8080/"
        },
        "id": "jtaTwXHotMsM",
        "outputId": "dbf8fef8-4ea8-4e28-d4df-3c2bb762b996"
      },
      "execution_count": null,
      "outputs": [
        {
          "output_type": "execute_result",
          "data": {
            "text/plain": [
              "(tensor([[1., 2., 3.],\n",
              "         [4., 5., 6.],\n",
              "         [7., 8., 9.]]),\n",
              " torch.Size([3, 3]))"
            ]
          },
          "metadata": {},
          "execution_count": 6
        }
      ]
    },
    {
      "cell_type": "code",
      "source": [
        "z[:,0] = 5\n",
        "z,x"
      ],
      "metadata": {
        "colab": {
          "base_uri": "https://localhost:8080/"
        },
        "id": "55jLI9STyqEw",
        "outputId": "80b7d275-de34-496f-813c-2cbb275564eb"
      },
      "execution_count": null,
      "outputs": [
        {
          "output_type": "execute_result",
          "data": {
            "text/plain": [
              "(tensor([[5., 2., 3.],\n",
              "         [5., 5., 6.],\n",
              "         [5., 8., 9.]]),\n",
              " tensor([5., 2., 3., 5., 5., 6., 5., 8., 9.]))"
            ]
          },
          "metadata": {},
          "execution_count": 7
        }
      ]
    },
    {
      "cell_type": "markdown",
      "source": [
        "### stack方法\n",
        "* torch.stack(tensor,dim=0)\n",
        "* 沿新维度拼接多个张量，增加一个新维度"
      ],
      "metadata": {
        "id": "pqg3CA5-0Ivs"
      }
    },
    {
      "cell_type": "code",
      "source": [
        "x_stacked = torch.stack([x,x,x,x],dim=1)\n",
        "x_stacked,x_stacked.shape"
      ],
      "metadata": {
        "colab": {
          "base_uri": "https://localhost:8080/"
        },
        "id": "RbIAN5zJtMgj",
        "outputId": "5453b58d-0182-42b5-9bf1-9c15e7fa2ea1"
      },
      "execution_count": null,
      "outputs": [
        {
          "output_type": "execute_result",
          "data": {
            "text/plain": [
              "(tensor([[5., 5., 5., 5.],\n",
              "         [2., 2., 2., 2.],\n",
              "         [3., 3., 3., 3.],\n",
              "         [5., 5., 5., 5.],\n",
              "         [5., 5., 5., 5.],\n",
              "         [6., 6., 6., 6.],\n",
              "         [5., 5., 5., 5.],\n",
              "         [8., 8., 8., 8.],\n",
              "         [9., 9., 9., 9.]]),\n",
              " torch.Size([9, 4]))"
            ]
          },
          "metadata": {},
          "execution_count": 27
        }
      ]
    },
    {
      "cell_type": "markdown",
      "source": [
        "### torch.squeeze() 降维\n",
        "* 直接运行tensor.squeeze() 会自动将多余的维度压缩"
      ],
      "metadata": {
        "id": "_PpXJ2S8BX6W"
      }
    },
    {
      "cell_type": "code",
      "source": [
        "x_stacked = torch.tensor([[1.,2.,3.,4.,5.,6.]])"
      ],
      "metadata": {
        "id": "tcLAp7RTDIUv"
      },
      "execution_count": null,
      "outputs": []
    },
    {
      "cell_type": "code",
      "source": [
        "print(f\"Previous tensor:{x_stacked}\")\n",
        "print(f\"Previous shape:{x_stacked.shape}\")\n",
        "print(f\"Previous dimension:{x_stacked.ndim}\")\n",
        "x_squeezed = x_stacked.squeeze()\n",
        "print(f\"\\nNew tensor:{x_squeezed}\")\n",
        "print(f\"\\nNew shape:{x_squeezed.shape}\")\n",
        "print(f\"\\nNew dimension:{x_squeezed.ndim}\")"
      ],
      "metadata": {
        "colab": {
          "base_uri": "https://localhost:8080/"
        },
        "id": "kgsy5jLbBkTo",
        "outputId": "3e4d306d-5814-4926-8168-7779f31be12d"
      },
      "execution_count": null,
      "outputs": [
        {
          "output_type": "stream",
          "name": "stdout",
          "text": [
            "Previous tensor:tensor([[1., 2., 3., 4., 5., 6.]])\n",
            "Previous shape:torch.Size([1, 6])\n",
            "Previous dimension:2\n",
            "\n",
            "New tensor:tensor([1., 2., 3., 4., 5., 6.])\n",
            "\n",
            "New shape:torch.Size([6])\n",
            "\n",
            "New dimension:1\n"
          ]
        }
      ]
    },
    {
      "cell_type": "markdown",
      "source": [
        "### torch.unsqueeze() 升维，指定维度 dim 上插入一个大小为 1 的新维度，从而改变张量的形状。\n",
        "* torch.unsqueeze(tensor,dim=0)"
      ],
      "metadata": {
        "id": "pStHDOYeBlQp"
      }
    },
    {
      "cell_type": "code",
      "source": [
        "x_stacked = torch.tensor([1.,2.,3.,4.,5.,6.])"
      ],
      "metadata": {
        "id": "gXgbSjH0D5Ec"
      },
      "execution_count": null,
      "outputs": []
    },
    {
      "cell_type": "code",
      "source": [
        "print(f\"Previous tensor:{x_stacked}\")\n",
        "print(f\"Previous shape:{x_stacked.shape}\")\n",
        "print(f\"Previous dimension:{x_stacked.ndim}\")\n",
        "x_squeezed = torch.unsqueeze(x_stacked,dim=1)\n",
        "print(f\"\\nNew tensor:{x_squeezed}\")\n",
        "print(f\"\\nNew shape:{x_squeezed.shape}\")\n",
        "print(f\"\\nNew dimension:{x_squeezed.ndim}\")"
      ],
      "metadata": {
        "colab": {
          "base_uri": "https://localhost:8080/"
        },
        "id": "6NCPBiQUBoMs",
        "outputId": "5507589b-0f16-46bd-d299-137f9a922956"
      },
      "execution_count": null,
      "outputs": [
        {
          "output_type": "stream",
          "name": "stdout",
          "text": [
            "Previous tensor:tensor([1., 2., 3., 4., 5., 6.])\n",
            "Previous shape:torch.Size([6])\n",
            "Previous dimension:1\n",
            "\n",
            "New tensor:tensor([[1.],\n",
            "        [2.],\n",
            "        [3.],\n",
            "        [4.],\n",
            "        [5.],\n",
            "        [6.]])\n",
            "\n",
            "New shape:torch.Size([6, 1])\n",
            "\n",
            "New dimension:2\n"
          ]
        }
      ]
    },
    {
      "cell_type": "markdown",
      "source": [
        "### torch.permute() 调整张量维度顺序的函数。它可以按指定的顺序 重新排列张量的维度，但不改变张量的数据本身。"
      ],
      "metadata": {
        "id": "FtZHWTnRBoy6"
      }
    },
    {
      "cell_type": "code",
      "source": [
        "x_reshaped = torch.rand(size=(224,224,3))\n",
        "x_reshaped"
      ],
      "metadata": {
        "id": "I2ik7G5ABog3"
      },
      "execution_count": null,
      "outputs": []
    },
    {
      "cell_type": "code",
      "source": [
        "print(f\"Previous shape: {x_reshaped.shape}\")\n",
        "\n",
        "x_permuted = x_reshaped.permute(2,0,1)\n",
        "\n",
        "print(f\"New shape: {x_permuted.shape}\")"
      ],
      "metadata": {
        "colab": {
          "base_uri": "https://localhost:8080/"
        },
        "id": "0cv08hAkBlBp",
        "outputId": "15dae020-cebe-43e6-ac69-c4d0dd05cefa"
      },
      "execution_count": null,
      "outputs": [
        {
          "output_type": "stream",
          "name": "stdout",
          "text": [
            "Previous shape: torch.Size([224, 224, 3])\n",
            "New shape: torch.Size([3, 224, 224])\n"
          ]
        }
      ]
    },
    {
      "cell_type": "markdown",
      "source": [
        "# index 角标 从tensor中select数据"
      ],
      "metadata": {
        "id": "SI-qFwz3GhmV"
      }
    },
    {
      "cell_type": "code",
      "source": [
        "# Create a tensor\n",
        "import torch\n",
        "x = torch.arange(1, 10).reshape(1, 3, 3)\n",
        "x, x.shape"
      ],
      "metadata": {
        "colab": {
          "base_uri": "https://localhost:8080/"
        },
        "id": "FWXm5gj1G1gp",
        "outputId": "f1ba11c2-0c2d-4c57-aa39-ab94be3524a2"
      },
      "execution_count": null,
      "outputs": [
        {
          "output_type": "execute_result",
          "data": {
            "text/plain": [
              "(tensor([[[1, 2, 3],\n",
              "          [4, 5, 6],\n",
              "          [7, 8, 9]]]),\n",
              " torch.Size([1, 3, 3]))"
            ]
          },
          "metadata": {},
          "execution_count": 40
        }
      ]
    },
    {
      "cell_type": "code",
      "source": [
        "# Let's index bracket by bracket\n",
        "print(f\"First square bracket:\\n{x[0]}\")\n",
        "print(f\"Second square bracket: {x[0][0]}\")\n",
        "print(f\"Third square bracket: {x[0][0][0]}\")"
      ],
      "metadata": {
        "colab": {
          "base_uri": "https://localhost:8080/"
        },
        "id": "SQvQiK2zHHXe",
        "outputId": "8579b5ca-4fea-4f8f-f2b2-d782c214b851"
      },
      "execution_count": null,
      "outputs": [
        {
          "output_type": "stream",
          "name": "stdout",
          "text": [
            "First square bracket:\n",
            "tensor([[1, 2, 3],\n",
            "        [4, 5, 6],\n",
            "        [7, 8, 9]])\n",
            "Second square bracket: tensor([1, 2, 3])\n",
            "Third square bracket: 1\n"
          ]
        }
      ]
    },
    {
      "cell_type": "code",
      "source": [
        "# x的第2行\n",
        "x[:,1]"
      ],
      "metadata": {
        "colab": {
          "base_uri": "https://localhost:8080/"
        },
        "id": "5sT9QbX4HLvz",
        "outputId": "f4c6f91d-83ac-4b1b-ddc8-705c8fb5004b"
      },
      "execution_count": null,
      "outputs": [
        {
          "output_type": "execute_result",
          "data": {
            "text/plain": [
              "tensor([[4, 5, 6]])"
            ]
          },
          "metadata": {},
          "execution_count": 43
        }
      ]
    },
    {
      "cell_type": "markdown",
      "source": [
        "* x[:,:,1] :代表所有，出现这个就表示一个维度，出现俩表示2维,1表示第2列\n",
        "* [[]] ---> [[2,5,8]]"
      ],
      "metadata": {
        "id": "aG829yPzH6mv"
      }
    },
    {
      "cell_type": "code",
      "source": [
        "x[:,:,1]"
      ],
      "metadata": {
        "colab": {
          "base_uri": "https://localhost:8080/"
        },
        "id": "Cg_NqsiXHeZS",
        "outputId": "c90e4464-39af-488a-da14-32af966fd76a"
      },
      "execution_count": null,
      "outputs": [
        {
          "output_type": "execute_result",
          "data": {
            "text/plain": [
              "tensor([[2, 5, 8]])"
            ]
          },
          "metadata": {},
          "execution_count": 49
        }
      ]
    },
    {
      "cell_type": "markdown",
      "source": [
        "# PyTorch tensors & NumPy\n",
        "* PyTorch 和 NumPy 是 Python 中处理数值计算的两个重要库。PyTorch 提供了一些方法，使它与 NumPy 能够高效地相互转换数据类型。这种功能非常实用，因为 NumPy 是数据处理和科学计算的常用工具，而 PyTorch 更注重深度学习和 GPU 加速的应用。\n",
        "\n",
        "* torch.from_numpy(ndarray) - NumPy array -> PyTorch tensor.\n",
        "* torch.Tensor.numpy() - PyTorch tensor -> NumPy array."
      ],
      "metadata": {
        "id": "MkTdGDyoIaRj"
      }
    },
    {
      "cell_type": "code",
      "source": [
        "import torch\n",
        "import numpy as np\n",
        "array = np.arange(1.0,8.0)\n",
        "tensor = torch.from_numpy(array).type(torch.float32)\n",
        "tensor,array,tensor.dtype"
      ],
      "metadata": {
        "colab": {
          "base_uri": "https://localhost:8080/"
        },
        "id": "JjnglrQgJy6t",
        "outputId": "6ad357ab-c871-483c-cf76-7d980db3319c"
      },
      "execution_count": null,
      "outputs": [
        {
          "output_type": "execute_result",
          "data": {
            "text/plain": [
              "(tensor([1., 2., 3., 4., 5., 6., 7.]),\n",
              " array([1., 2., 3., 4., 5., 6., 7.]),\n",
              " torch.float32)"
            ]
          },
          "metadata": {},
          "execution_count": 54
        }
      ]
    },
    {
      "cell_type": "markdown",
      "source": [
        "numpy创建arange 默认是float64,如果转换成tensor 仍然会保持相同的数据类型"
      ],
      "metadata": {
        "id": "hzWLgyiUKLQq"
      }
    },
    {
      "cell_type": "code",
      "source": [
        "array = array + 1\n",
        "array, tensor"
      ],
      "metadata": {
        "colab": {
          "base_uri": "https://localhost:8080/"
        },
        "id": "I4w24AyeJywJ",
        "outputId": "f91351e1-3a79-4c3e-d8ed-836c896372b9"
      },
      "execution_count": null,
      "outputs": [
        {
          "output_type": "execute_result",
          "data": {
            "text/plain": [
              "(array([2., 3., 4., 5., 6., 7., 8.]), tensor([1., 2., 3., 4., 5., 6., 7.]))"
            ]
          },
          "metadata": {},
          "execution_count": 55
        }
      ]
    },
    {
      "cell_type": "code",
      "source": [
        "tensor = torch.ones(7)\n",
        "array = tensor.numpy()\n",
        "tensor,array"
      ],
      "metadata": {
        "colab": {
          "base_uri": "https://localhost:8080/"
        },
        "id": "r4-tt1clLOrJ",
        "outputId": "80eca0ed-7d6b-4ce7-f154-9ae13b5d8333"
      },
      "execution_count": null,
      "outputs": [
        {
          "output_type": "execute_result",
          "data": {
            "text/plain": [
              "(tensor([1., 1., 1., 1., 1., 1., 1.]),\n",
              " array([1., 1., 1., 1., 1., 1., 1.], dtype=float32))"
            ]
          },
          "metadata": {},
          "execution_count": 56
        }
      ]
    },
    {
      "cell_type": "code",
      "source": [
        "# Change the tensor, keep the array the same\n",
        "tensor = tensor + 1\n",
        "tensor, array"
      ],
      "metadata": {
        "colab": {
          "base_uri": "https://localhost:8080/"
        },
        "id": "wFIOaIITLeUx",
        "outputId": "b0db4987-26f9-4298-a879-5aabe3db158f"
      },
      "execution_count": null,
      "outputs": [
        {
          "output_type": "execute_result",
          "data": {
            "text/plain": [
              "(tensor([3., 3., 3., 3., 3., 3., 3.]),\n",
              " array([1., 1., 1., 1., 1., 1., 1.], dtype=float32))"
            ]
          },
          "metadata": {},
          "execution_count": 58
        }
      ]
    },
    {
      "cell_type": "markdown",
      "source": [
        "# Reproducibility 让随机性可控 —— 随机种子\n",
        "## 在机器学习和深度学习中，随机性广泛存在，比如：\n",
        "\n",
        "* 初始化神经网络的权重时使用随机数。\n",
        "* 随机打乱训练数据（shuffle）。\n",
        "* 随机选择训练样本（比如批次训练中的 mini-batch）。\n",
        "#### 虽然这种随机性是有帮助的，可以让模型更有泛化能力，但在某些情况下，我们需要结果具有可重复性，即 在相同代码、相同环境下能得到一致的结果。这就是可重复性（reproducibility）的核心思想。\n",
        "\n",
        "#### 随机性与伪随机性\n",
        "* 随机性（Randomness）：\n",
        " 计算机实际上无法生成真正的随机数，它们通过特定算法生成伪随机数（Pseudorandom numbers），基于给定的初始种子（seed）。\n",
        "* 伪随机性（Pseudorandomness）：\n",
        "如果设置相同的随机种子，计算机生成的随机数序列是可预测和可重复的。\n",
        "在深度学习中，我们利用伪随机性来确保实验的可重复性。"
      ],
      "metadata": {
        "id": "-g1pAeLILy3y"
      }
    },
    {
      "cell_type": "code",
      "source": [
        "import torch\n",
        "\n",
        "# Create two random tensors\n",
        "random_tensor_A = torch.rand(3, 4)\n",
        "random_tensor_B = torch.rand(3, 4)\n",
        "\n",
        "print(f\"Tensor A:\\n{random_tensor_A}\\n\")\n",
        "print(f\"Tensor B:\\n{random_tensor_B}\\n\")\n",
        "print(f\"Does Tensor A equal Tensor B? (anywhere)\")\n",
        "random_tensor_A == random_tensor_B"
      ],
      "metadata": {
        "colab": {
          "base_uri": "https://localhost:8080/"
        },
        "id": "-Oq5lnUMMuwH",
        "outputId": "4aaa397c-b352-4588-dfe7-6c0df18571f9"
      },
      "execution_count": null,
      "outputs": [
        {
          "output_type": "stream",
          "name": "stdout",
          "text": [
            "Tensor A:\n",
            "tensor([[0.7854, 0.6675, 0.6544, 0.0291],\n",
            "        [0.7702, 0.0981, 0.4934, 0.0658],\n",
            "        [0.4038, 0.4774, 0.5587, 0.6329]])\n",
            "\n",
            "Tensor B:\n",
            "tensor([[0.7071, 0.3599, 0.2030, 0.5473],\n",
            "        [0.8521, 0.8881, 0.7134, 0.7750],\n",
            "        [0.3521, 0.7084, 0.2888, 0.3006]])\n",
            "\n",
            "Does Tensor A equal Tensor B? (anywhere)\n"
          ]
        },
        {
          "output_type": "execute_result",
          "data": {
            "text/plain": [
              "tensor([[False, False, False, False],\n",
              "        [False, False, False, False],\n",
              "        [False, False, False, False]])"
            ]
          },
          "metadata": {},
          "execution_count": 59
        }
      ]
    },
    {
      "cell_type": "markdown",
      "source": [
        "##### 像上面随机生成两个形状一样的tensor 它们的值是不一样的\n",
        "## 因此引入torch.manual_seed(seed) 随机生成种子"
      ],
      "metadata": {
        "id": "pPWz7yzUM_Sn"
      }
    },
    {
      "cell_type": "code",
      "source": [
        "import torch\n",
        "import random\n",
        "RANDOM_SEED=42\n",
        "torch.manual_seed(seed=RANDOM_SEED)\n",
        "random_tensor_C = torch.rand(3,4)\n",
        "\n",
        "torch.manual_seed(seed=RANDOM_SEED) # try commenting this line out and seeing what happens\n",
        "random_tensor_D = torch.rand(3, 4)\n",
        "\n",
        "\n",
        "print(f\"Tensor C:\\n{random_tensor_C}\\n\")\n",
        "print(f\"Tensor D:\\n{random_tensor_D}\\n\")\n",
        "print(f\"Does Tensor C equal Tensor D? (anywhere)\")\n",
        "random_tensor_C == random_tensor_D"
      ],
      "metadata": {
        "colab": {
          "base_uri": "https://localhost:8080/"
        },
        "id": "jJMW2SN2Mui_",
        "outputId": "c703b9db-35aa-4d8d-9f0c-573a7ce535bd"
      },
      "execution_count": null,
      "outputs": [
        {
          "output_type": "stream",
          "name": "stdout",
          "text": [
            "Tensor C:\n",
            "tensor([[0.8823, 0.9150, 0.3829, 0.9593],\n",
            "        [0.3904, 0.6009, 0.2566, 0.7936],\n",
            "        [0.9408, 0.1332, 0.9346, 0.5936]])\n",
            "\n",
            "Tensor D:\n",
            "tensor([[0.8823, 0.9150, 0.3829, 0.9593],\n",
            "        [0.3904, 0.6009, 0.2566, 0.7936],\n",
            "        [0.9408, 0.1332, 0.9346, 0.5936]])\n",
            "\n",
            "Does Tensor C equal Tensor D? (anywhere)\n"
          ]
        },
        {
          "output_type": "execute_result",
          "data": {
            "text/plain": [
              "tensor([[True, True, True, True],\n",
              "        [True, True, True, True],\n",
              "        [True, True, True, True]])"
            ]
          },
          "metadata": {},
          "execution_count": 66
        }
      ]
    },
    {
      "cell_type": "code",
      "source": [
        "import torch\n",
        "import random\n",
        "\n",
        "# # Set the random seed\n",
        "RANDOM_SEED=42 # try changing this to different values and see what happens to the numbers below\n",
        "torch.manual_seed(seed=RANDOM_SEED)\n",
        "random_tensor_C = torch.rand(3, 4)\n",
        "\n",
        "# Have to reset the seed every time a new rand() is called\n",
        "# Without this, tensor_D would be different to tensor_C\n",
        "torch.random.manual_seed(seed=RANDOM_SEED) # try commenting this line out and seeing what happens\n",
        "random_tensor_D = torch.rand(3, 4)\n",
        "\n",
        "print(f\"Tensor C:\\n{random_tensor_C}\\n\")\n",
        "print(f\"Tensor D:\\n{random_tensor_D}\\n\")\n",
        "print(f\"Does Tensor C equal Tensor D? (anywhere)\")\n",
        "random_tensor_C == random_tensor_D"
      ],
      "metadata": {
        "id": "w6pei0GnNSm3"
      },
      "execution_count": null,
      "outputs": []
    },
    {
      "cell_type": "markdown",
      "source": [
        "# 获取GPU"
      ],
      "metadata": {
        "id": "XKVLinA5HVrR"
      }
    },
    {
      "cell_type": "code",
      "source": [
        "!nvidia-smi"
      ],
      "metadata": {
        "colab": {
          "base_uri": "https://localhost:8080/"
        },
        "id": "kjpbgL-gIhio",
        "outputId": "b8c92ecc-c090-4b52-fac6-189337a936f4"
      },
      "execution_count": null,
      "outputs": [
        {
          "output_type": "stream",
          "name": "stdout",
          "text": [
            "Mon Dec 23 10:49:56 2024       \n",
            "+---------------------------------------------------------------------------------------+\n",
            "| NVIDIA-SMI 535.104.05             Driver Version: 535.104.05   CUDA Version: 12.2     |\n",
            "|-----------------------------------------+----------------------+----------------------+\n",
            "| GPU  Name                 Persistence-M | Bus-Id        Disp.A | Volatile Uncorr. ECC |\n",
            "| Fan  Temp   Perf          Pwr:Usage/Cap |         Memory-Usage | GPU-Util  Compute M. |\n",
            "|                                         |                      |               MIG M. |\n",
            "|=========================================+======================+======================|\n",
            "|   0  Tesla T4                       Off | 00000000:00:04.0 Off |                    0 |\n",
            "| N/A   37C    P8               9W /  70W |      0MiB / 15360MiB |      0%      Default |\n",
            "|                                         |                      |                  N/A |\n",
            "+-----------------------------------------+----------------------+----------------------+\n",
            "                                                                                         \n",
            "+---------------------------------------------------------------------------------------+\n",
            "| Processes:                                                                            |\n",
            "|  GPU   GI   CI        PID   Type   Process name                            GPU Memory |\n",
            "|        ID   ID                                                             Usage      |\n",
            "|=======================================================================================|\n",
            "|  No running processes found                                                           |\n",
            "+---------------------------------------------------------------------------------------+\n"
          ]
        }
      ]
    },
    {
      "cell_type": "markdown",
      "source": [
        "## 检查GPU是否有 pytorch"
      ],
      "metadata": {
        "id": "ykKUWYwDI35c"
      }
    },
    {
      "cell_type": "code",
      "source": [
        "import torch\n",
        "torch.cuda.is_available()"
      ],
      "metadata": {
        "colab": {
          "base_uri": "https://localhost:8080/"
        },
        "id": "egzkKAGGI2eY",
        "outputId": "0f14427b-e067-4858-c24b-819dbc370589"
      },
      "execution_count": null,
      "outputs": [
        {
          "output_type": "execute_result",
          "data": {
            "text/plain": [
              "True"
            ]
          },
          "metadata": {},
          "execution_count": 14
        }
      ]
    },
    {
      "cell_type": "markdown",
      "source": [
        "## 设置代码运行时用GPU还是CPU"
      ],
      "metadata": {
        "id": "tXotqidlJMkv"
      }
    },
    {
      "cell_type": "code",
      "source": [
        "device = \"cuda\" if torch.cuda.is_available() else \"cpu\"\n",
        "device"
      ],
      "metadata": {
        "colab": {
          "base_uri": "https://localhost:8080/",
          "height": 35
        },
        "id": "ehq1-5_ZJRqI",
        "outputId": "c2883777-ca9e-4716-926f-82ed4b2f7db8"
      },
      "execution_count": null,
      "outputs": [
        {
          "output_type": "execute_result",
          "data": {
            "text/plain": [
              "'cuda'"
            ],
            "application/vnd.google.colaboratory.intrinsic+json": {
              "type": "string"
            }
          },
          "metadata": {},
          "execution_count": 15
        }
      ]
    },
    {
      "cell_type": "markdown",
      "source": [
        "## 检查有多少个gpu"
      ],
      "metadata": {
        "id": "jqrCq6S5KHe6"
      }
    },
    {
      "cell_type": "code",
      "source": [
        "torch.cuda.device_count()"
      ],
      "metadata": {
        "colab": {
          "base_uri": "https://localhost:8080/"
        },
        "id": "w8-WuDpoKPxS",
        "outputId": "0dcfbac4-d753-4e5d-ce36-1b745f4278cf"
      },
      "execution_count": null,
      "outputs": [
        {
          "output_type": "execute_result",
          "data": {
            "text/plain": [
              "1"
            ]
          },
          "metadata": {},
          "execution_count": 6
        }
      ]
    },
    {
      "cell_type": "markdown",
      "source": [
        "## 用GPU计算tensor"
      ],
      "metadata": {
        "id": "9SoTDLbkKJ2Y"
      }
    },
    {
      "cell_type": "code",
      "source": [
        "device = \"cuda\" if torch.cuda.is_available() else \"cpu\"\n",
        "tensor = torch.tensor([1,2,3])\n",
        "tensor_on_gpu = tensor.to(device)\n",
        "tensor_on_gpu"
      ],
      "metadata": {
        "colab": {
          "base_uri": "https://localhost:8080/"
        },
        "id": "pLbPdy-zKhW5",
        "outputId": "a04b18ea-2ad9-4e00-f102-104cf0eb046e"
      },
      "execution_count": null,
      "outputs": [
        {
          "output_type": "execute_result",
          "data": {
            "text/plain": [
              "tensor([1, 2, 3], device='cuda:0')"
            ]
          },
          "metadata": {},
          "execution_count": 20
        }
      ]
    },
    {
      "cell_type": "markdown",
      "source": [
        "## 将运行在GPU上的tensor back to CPU\n",
        "* numpy 在CPU上运行"
      ],
      "metadata": {
        "id": "sZD2eyKaNmqo"
      }
    },
    {
      "cell_type": "code",
      "source": [
        "tensor_back_on_cpu = tensor_on_gpu.cpu().numpy()\n",
        "tensor_back_on_cpu"
      ],
      "metadata": {
        "colab": {
          "base_uri": "https://localhost:8080/"
        },
        "id": "QJAdCFmANy67",
        "outputId": "59cf08d2-8741-4826-bc3b-faf7324259e1"
      },
      "execution_count": null,
      "outputs": [
        {
          "output_type": "execute_result",
          "data": {
            "text/plain": [
              "array([1, 2, 3])"
            ]
          },
          "metadata": {},
          "execution_count": 21
        }
      ]
    },
    {
      "cell_type": "code",
      "source": [],
      "metadata": {
        "id": "LSQ3Tp-p-cGe"
      },
      "execution_count": null,
      "outputs": []
    },
    {
      "cell_type": "markdown",
      "source": [],
      "metadata": {
        "id": "itM7ZjA77Qgs"
      }
    }
  ]
}